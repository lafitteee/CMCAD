{
 "cells": [
  {
   "cell_type": "code",
   "execution_count": 1,
   "metadata": {},
   "outputs": [],
   "source": [
    "import numpy as np\n",
    "import pandas as pd\n",
    "import os"
   ]
  },
  {
   "cell_type": "code",
   "execution_count": 12,
   "metadata": {},
   "outputs": [
    {
     "name": "stdout",
     "output_type": "stream",
     "text": [
      "33491\n"
     ]
    }
   ],
   "source": [
    "for root, dirs, files in os.walk('/home/wang/Projects/CMCAD-2080/dataset/dxf'):\n",
    "    print(len(files))\n",
    "    # for file in sorted(files):\n",
    "    #     print(file)"
   ]
  },
  {
   "cell_type": "code",
   "execution_count": 11,
   "metadata": {},
   "outputs": [
    {
     "name": "stdout",
     "output_type": "stream",
     "text": [
      "30252\n"
     ]
    }
   ],
   "source": [
    "for root, dirs, files in os.walk('/home/wang/Projects/CMCAD-2080/dataset/images'):\n",
    "    print(len(files))\n",
    "    # for file in sorted(files):\n",
    "    #     print(file)"
   ]
  },
  {
   "attachments": {},
   "cell_type": "markdown",
   "metadata": {},
   "source": [
    "dxf 文件名就是 id\n",
    "\n",
    "表格格式:\n",
    "\n",
    "id          cmd         args        image            latent vector(用于相似度计算)   \n",
    "\n"
   ]
  },
  {
   "attachments": {},
   "cell_type": "markdown",
   "metadata": {},
   "source": [
    "# Step 1. 按照文件名的顺序将 dxf 文件处理成 cmd\\args 序列"
   ]
  },
  {
   "cell_type": "code",
   "execution_count": 25,
   "metadata": {},
   "outputs": [],
   "source": [
    "from data_process import process_single_dxf, normalizeSingleDxf\n",
    "import ezdxf"
   ]
  },
  {
   "cell_type": "code",
   "execution_count": 54,
   "metadata": {},
   "outputs": [
    {
     "ename": "TypeError",
     "evalue": "'<' not supported between instances of 'NoneType' and 'int'",
     "output_type": "error",
     "traceback": [
      "\u001b[0;31m---------------------------------------------------------------------------\u001b[0m",
      "\u001b[0;31mTypeError\u001b[0m                                 Traceback (most recent call last)",
      "\u001b[1;32m/home/wang/Projects/CMCAD-2080/similarity/calculate_sim.ipynb Cell 7\u001b[0m in \u001b[0;36m<cell line: 28>\u001b[0;34m()\u001b[0m\n\u001b[1;32m     <a href='vscode-notebook-cell://ssh-remote%2B3090-wang/home/wang/Projects/CMCAD-2080/similarity/calculate_sim.ipynb#W6sdnNjb2RlLXJlbW90ZQ%3D%3D?line=25'>26</a>\u001b[0m args \u001b[39m=\u001b[39m np\u001b[39m.\u001b[39marray(args)\n\u001b[1;32m     <a href='vscode-notebook-cell://ssh-remote%2B3090-wang/home/wang/Projects/CMCAD-2080/similarity/calculate_sim.ipynb#W6sdnNjb2RlLXJlbW90ZQ%3D%3D?line=26'>27</a>\u001b[0m args[args \u001b[39mis\u001b[39;00m \u001b[39mNone\u001b[39;00m] \u001b[39m=\u001b[39m \u001b[39m-\u001b[39m\u001b[39m1\u001b[39m\n\u001b[0;32m---> <a href='vscode-notebook-cell://ssh-remote%2B3090-wang/home/wang/Projects/CMCAD-2080/similarity/calculate_sim.ipynb#W6sdnNjb2RlLXJlbW90ZQ%3D%3D?line=27'>28</a>\u001b[0m args[args \u001b[39m<\u001b[39;49m \u001b[39m-\u001b[39;49m\u001b[39m1\u001b[39;49m] \u001b[39m=\u001b[39m \u001b[39m-\u001b[39m\u001b[39m1\u001b[39m\n\u001b[1;32m     <a href='vscode-notebook-cell://ssh-remote%2B3090-wang/home/wang/Projects/CMCAD-2080/similarity/calculate_sim.ipynb#W6sdnNjb2RlLXJlbW90ZQ%3D%3D?line=28'>29</a>\u001b[0m args[args \u001b[39m>\u001b[39m \u001b[39m255\u001b[39m] \u001b[39m=\u001b[39m \u001b[39m255\u001b[39m\n\u001b[1;32m     <a href='vscode-notebook-cell://ssh-remote%2B3090-wang/home/wang/Projects/CMCAD-2080/similarity/calculate_sim.ipynb#W6sdnNjb2RlLXJlbW90ZQ%3D%3D?line=29'>30</a>\u001b[0m data \u001b[39m=\u001b[39m {\n\u001b[1;32m     <a href='vscode-notebook-cell://ssh-remote%2B3090-wang/home/wang/Projects/CMCAD-2080/similarity/calculate_sim.ipynb#W6sdnNjb2RlLXJlbW90ZQ%3D%3D?line=30'>31</a>\u001b[0m     \u001b[39m'\u001b[39m\u001b[39mindex\u001b[39m\u001b[39m'\u001b[39m: indexs,\n\u001b[1;32m     <a href='vscode-notebook-cell://ssh-remote%2B3090-wang/home/wang/Projects/CMCAD-2080/similarity/calculate_sim.ipynb#W6sdnNjb2RlLXJlbW90ZQ%3D%3D?line=31'>32</a>\u001b[0m     \u001b[39m'\u001b[39m\u001b[39mcmds\u001b[39m\u001b[39m'\u001b[39m: cmds,\n\u001b[1;32m     <a href='vscode-notebook-cell://ssh-remote%2B3090-wang/home/wang/Projects/CMCAD-2080/similarity/calculate_sim.ipynb#W6sdnNjb2RlLXJlbW90ZQ%3D%3D?line=32'>33</a>\u001b[0m     \u001b[39m'\u001b[39m\u001b[39margs\u001b[39m\u001b[39m'\u001b[39m: args\n\u001b[1;32m     <a href='vscode-notebook-cell://ssh-remote%2B3090-wang/home/wang/Projects/CMCAD-2080/similarity/calculate_sim.ipynb#W6sdnNjb2RlLXJlbW90ZQ%3D%3D?line=33'>34</a>\u001b[0m }\n",
      "\u001b[0;31mTypeError\u001b[0m: '<' not supported between instances of 'NoneType' and 'int'"
     ]
    }
   ],
   "source": [
    "indexs = []\n",
    "cmds = []\n",
    "args = []\n",
    "for root, dirs, files in os.walk('/home/wang/Projects/CMCAD-2080/dataset/dxf'):\n",
    "    for file in sorted(files):\n",
    "        id  = file.split('.')[0]\n",
    "        msp = ezdxf.readfile(os.path.join(root, file)).modelspace()\n",
    "        c, a = process_single_dxf(msp)\n",
    "        if c is None or a is None:\n",
    "            print(id)\n",
    "            continue\n",
    "        if normalizeSingleDxf(a) == 1:\n",
    "            print(id)\n",
    "            continue\n",
    "        if len(c) > 62:\n",
    "            continue\n",
    "        while len(c) < 62:\n",
    "            c.append(4)\n",
    "            a.append([None]*7)\n",
    "        indexs.append(id)\n",
    "        cmds.append(c)\n",
    "        args.append(a)\n",
    "\n",
    "indexs = np.array(indexs)\n",
    "cmds = np.array(cmds)\n",
    "args = np.array(args)"
   ]
  },
  {
   "cell_type": "code",
   "execution_count": 82,
   "metadata": {},
   "outputs": [],
   "source": [
    "# 把 args 中的所有 None 替换成-1\n",
    "# for i in range(len(args)):\n",
    "#     for j in range(len(args[i])):\n",
    "#         for k in range(len(args[i][j])):\n",
    "#             if args[i][j][k] is None:\n",
    "#                 args[i][j][k] = -1\n",
    "\n",
    "# args[args < -1] = -1\n",
    "# args[args > 255] = 255\n",
    "# data = {\n",
    "#     'index': indexs,\n",
    "#     'cmds': cmds,\n",
    "#     'args': args\n",
    "# }\n",
    "# save data to npz\n",
    "np.savez('/home/wang/Projects/CMCAD-2080/dataset/data_id_cmd_arg.npz', indexs=indexs, cmds=cmds, args=args)"
   ]
  },
  {
   "cell_type": "code",
   "execution_count": 83,
   "metadata": {},
   "outputs": [
    {
     "data": {
      "text/plain": [
       "<numpy.lib.npyio.NpzFile at 0x7f62b9b4b850>"
      ]
     },
     "execution_count": 83,
     "metadata": {},
     "output_type": "execute_result"
    }
   ],
   "source": [
    "dataaaa = np.load('/home/wang/Projects/CMCAD-2080/dataset/data_id_cmd_arg.npz', allow_pickle=True)\n",
    "dataaaa"
   ]
  },
  {
   "cell_type": "code",
   "execution_count": 88,
   "metadata": {},
   "outputs": [
    {
     "name": "stdout",
     "output_type": "stream",
     "text": [
      "(33476, 62)\n",
      "(33476, 62, 7)\n",
      "(33476,)\n"
     ]
    }
   ],
   "source": [
    "print(dataaaa['cmds'].shape)\n",
    "print(dataaaa['args'].shape)\n",
    "print(dataaaa['indexs'].shape)"
   ]
  },
  {
   "cell_type": "code",
   "execution_count": 69,
   "metadata": {},
   "outputs": [
    {
     "data": {
      "text/plain": [
       "{'index': array(['00000', '00001', '00002', ..., '33488', '33489', '33490'],\n",
       "       dtype='<U5'),\n",
       " 'cmds': array([[0, 1, 1, ..., 4, 4, 4],\n",
       "        [0, 2, 2, ..., 4, 4, 4],\n",
       "        [0, 1, 1, ..., 4, 4, 4],\n",
       "        ...,\n",
       "        [0, 1, 1, ..., 4, 4, 4],\n",
       "        [0, 3, 1, ..., 4, 4, 4],\n",
       "        [0, 3, 1, ..., 4, 4, 4]]),\n",
       " 'args': array([[[-1, -1, -1, ..., -1, -1, -1],\n",
       "         [0.0, 153.0, 255.0, ..., -1, -1, -1],\n",
       "         [255.0, 76.0, 0.0, ..., -1, -1, -1],\n",
       "         ...,\n",
       "         [-1, -1, -1, ..., -1, -1, -1],\n",
       "         [-1, -1, -1, ..., -1, -1, -1],\n",
       "         [-1, -1, -1, ..., -1, -1, -1]],\n",
       " \n",
       "        [[-1, -1, -1, ..., -1, -1, -1],\n",
       "         [33.0, 99.0, -1, ..., 215.0, 60.0, 54.0],\n",
       "         [33.0, 99.0, -1, ..., 59.0, 212.0, 54.0],\n",
       "         ...,\n",
       "         [-1, -1, -1, ..., -1, -1, -1],\n",
       "         [-1, -1, -1, ..., -1, -1, -1],\n",
       "         [-1, -1, -1, ..., -1, -1, -1]],\n",
       " \n",
       "        [[-1, -1, -1, ..., -1, -1, -1],\n",
       "         [113.0, 201.0, 113.0, ..., -1, -1, -1],\n",
       "         [113.0, 54.0, 133.0, ..., -1, -1, -1],\n",
       "         ...,\n",
       "         [-1, -1, -1, ..., -1, -1, -1],\n",
       "         [-1, -1, -1, ..., -1, -1, -1],\n",
       "         [-1, -1, -1, ..., -1, -1, -1]],\n",
       " \n",
       "        ...,\n",
       " \n",
       "        [[-1, -1, -1, ..., -1, -1, -1],\n",
       "         [255.0, 127.0, 0.0, ..., -1, -1, -1],\n",
       "         [127.0, 0.0, 127.0, ..., -1, -1, -1],\n",
       "         ...,\n",
       "         [-1, -1, -1, ..., -1, -1, -1],\n",
       "         [-1, -1, -1, ..., -1, -1, -1],\n",
       "         [-1, -1, -1, ..., -1, -1, -1]],\n",
       " \n",
       "        [[-1, -1, -1, ..., -1, -1, -1],\n",
       "         [0.0, 0.0, -1, ..., -1, -1, 33.0],\n",
       "         [33.0, 0.0, 255.0, ..., -1, -1, -1],\n",
       "         ...,\n",
       "         [-1, -1, -1, ..., -1, -1, -1],\n",
       "         [-1, -1, -1, ..., -1, -1, -1],\n",
       "         [-1, -1, -1, ..., -1, -1, -1]],\n",
       " \n",
       "        [[-1, -1, -1, ..., -1, -1, -1],\n",
       "         [0.0, 127.0, -1, ..., -1, -1, 61.0],\n",
       "         [167.0, 127.0, 61.0, ..., -1, -1, -1],\n",
       "         ...,\n",
       "         [-1, -1, -1, ..., -1, -1, -1],\n",
       "         [-1, -1, -1, ..., -1, -1, -1],\n",
       "         [-1, -1, -1, ..., -1, -1, -1]]], dtype=object)}"
      ]
     },
     "execution_count": 69,
     "metadata": {},
     "output_type": "execute_result"
    }
   ],
   "source": []
  },
  {
   "cell_type": "code",
   "execution_count": 89,
   "metadata": {},
   "outputs": [
    {
     "data": {
      "text/plain": [
       "(5,)"
      ]
     },
     "execution_count": 89,
     "metadata": {},
     "output_type": "execute_result"
    }
   ],
   "source": [
    "a = np.array([1, 2, 3, 4, 5])\n",
    "a.shape"
   ]
  }
 ],
 "metadata": {
  "kernelspec": {
   "display_name": "cad",
   "language": "python",
   "name": "python3"
  },
  "language_info": {
   "codemirror_mode": {
    "name": "ipython",
    "version": 3
   },
   "file_extension": ".py",
   "mimetype": "text/x-python",
   "name": "python",
   "nbconvert_exporter": "python",
   "pygments_lexer": "ipython3",
   "version": "3.8.16"
  },
  "orig_nbformat": 4
 },
 "nbformat": 4,
 "nbformat_minor": 2
}
